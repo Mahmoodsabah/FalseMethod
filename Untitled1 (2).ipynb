{
  "nbformat": 4,
  "nbformat_minor": 0,
  "metadata": {
    "colab": {
      "provenance": []
    },
    "kernelspec": {
      "name": "python3",
      "display_name": "Python 3"
    },
    "language_info": {
      "name": "python"
    }
  },
  "cells": [
    {
      "cell_type": "code",
      "execution_count": null,
      "metadata": {
        "colab": {
          "base_uri": "https://localhost:8080/"
        },
        "id": "zH709fYwln0z",
        "outputId": "34e7960d-153d-4b2a-d3c8-5d1f292d6336"
      },
      "outputs": [
        {
          "output_type": "stream",
          "name": "stdout",
          "text": [
            "First Guess: 1\n",
            "Second Guess: 2\n",
            "Tolerable Error: 0.001\n",
            "\n",
            "\n",
            "*** FALSE POSITION METHOD IMPLEMENTATION ***\n",
            "Iteration-1, x2 = 1.166667 and f(x2) = -0.578704\n",
            "Iteration-2, x2 = 1.253112 and f(x2) = -0.285363\n",
            "Iteration-3, x2 = 1.293437 and f(x2) = -0.129542\n",
            "Iteration-4, x2 = 1.311281 and f(x2) = -0.056588\n",
            "Iteration-5, x2 = 1.318989 and f(x2) = -0.024304\n",
            "Iteration-6, x2 = 1.322283 and f(x2) = -0.010362\n",
            "Iteration-7, x2 = 1.323684 and f(x2) = -0.004404\n",
            "Iteration-8, x2 = 1.324279 and f(x2) = -0.001869\n",
            "Iteration-9, x2 = 1.324532 and f(x2) = -0.000793\n",
            "\n",
            "Required root is: 1.32453199\n"
          ]
        }
      ],
      "source": [
        "def f(x):\n",
        "    return x**3-x-1\n",
        "\n",
        "\n",
        "def falsePosition(x0,x1,e):\n",
        "    step = 1\n",
        "    print('\\n\\n*** FALSE POSITION METHOD IMPLEMENTATION ***')\n",
        "    condition = True\n",
        "    while condition:\n",
        "        x2 = x0 - (x1-x0) * f(x0)/( f(x1) - f(x0) )\n",
        "        print('Iteration-%d, x2 = %0.6f and f(x2) = %0.6f' % (step, x2, f(x2)))\n",
        "\n",
        "        if f(x0) * f(x2) < 0:\n",
        "            x1 = x2\n",
        "        else:\n",
        "            x0 = x2\n",
        "\n",
        "        step = step + 1\n",
        "        condition = abs(f(x2)) > e\n",
        "\n",
        "    print('\\nRequired root is: %0.8f' % x2)\n",
        "\n",
        "\n",
        "\n",
        "x0 = input('First Guess: ')\n",
        "x1 = input('Second Guess: ')\n",
        "e = input('Tolerable Error: ')\n",
        "\n",
        "\n",
        "x0 = float(x0)\n",
        "x1 = float(x1)\n",
        "e = float(e)\n",
        "\n",
        "\n",
        "if f(x0) * f(x1) > 0.0:\n",
        "    print('Given guess values do not bracket the root.')\n",
        "    print('Try Again with different guess values.')\n",
        "else:\n",
        "    falsePosition(x0,x1,e)"
      ]
    }
  ]
}